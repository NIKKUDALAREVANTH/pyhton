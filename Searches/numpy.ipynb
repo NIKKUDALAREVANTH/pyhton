{
 "cells": [
  {
   "cell_type": "code",
   "execution_count": 3,
   "id": "e4c36afe-dfed-4394-b92c-6b36bdbb2dd3",
   "metadata": {},
   "outputs": [
    {
     "name": "stdout",
     "output_type": "stream",
     "text": [
      "[1 2 3]\n",
      "[[1 2]\n",
      " [3 4]]\n"
     ]
    }
   ],
   "source": [
    "import numpy as np\n",
    "arr=np.array([1,2,3])\n",
    "print(arr)\n",
    "#2dimentional array\n",
    "arr_2d=np.array([[1,2],[3,4]])\n",
    "print(arr_2d)"
   ]
  },
  {
   "cell_type": "code",
   "execution_count": 5,
   "id": "190a2621-8608-48d8-b044-a7180c001df0",
   "metadata": {},
   "outputs": [
    {
     "name": "stdout",
     "output_type": "stream",
     "text": [
      "shape of the array: (2, 3)\n",
      "size of the array: 6\n",
      "dimension of the array: 2\n"
     ]
    }
   ],
   "source": [
    "import numpy as np\n",
    "arr=np.array([[1,2,3],[4,5,6]])\n",
    "print(\"shape of the array:\",arr.shape)  #gives the size of the array\n",
    "print(\"size of the array:\",arr.size) #gives the size of the array\n",
    "print(\"dimension of the array:\",arr.ndim) #shows the dimention of the array"
   ]
  },
  {
   "cell_type": "code",
   "execution_count": 11,
   "id": "4febbf1d-aa28-49de-aabf-2c229d347673",
   "metadata": {},
   "outputs": [
    {
     "name": "stdout",
     "output_type": "stream",
     "text": [
      "[[1 2 3]\n",
      " [4 5 6]]\n",
      "[[1 2]\n",
      " [3 4]\n",
      " [5 6]]\n",
      "[[1 2 3]\n",
      " [4 5 6]]\n"
     ]
    }
   ],
   "source": [
    "#reshaping of an array\n",
    "\n",
    "import numpy as np\n",
    "arr=np.array([1,2,3,4,5,6])\n",
    "reshaped_arr =arr.reshape(2,3) #reshapes the array into 2,3\n",
    "print(reshaped_arr)\n",
    "reshaped_arr =arr.reshape(3,2) #reshapes the array into 3,2\n",
    "print(reshaped_arr)\n",
    "reshaped_arr =arr.reshape(2,3) #\n",
    "print(reshaped_arr)"
   ]
  },
  {
   "cell_type": "code",
   "execution_count": 7,
   "id": "88146624-5543-49bb-a67f-cecf6574806d",
   "metadata": {},
   "outputs": [
    {
     "name": "stdout",
     "output_type": "stream",
     "text": [
      "[1 2 3 4 5 6]\n"
     ]
    }
   ],
   "source": [
    "import numpy as np\n",
    "arr_2d=np.array([[1,2,3],[4,5,6]])\n",
    "flattened_arr=arr_2d.flatten()\n",
    "print(flattened_arr)\n"
   ]
  },
  {
   "cell_type": "code",
   "execution_count": 9,
   "id": "64b9db41-b9e1-40ed-aea3-263fe718d2c8",
   "metadata": {},
   "outputs": [
    {
     "name": "stdin",
     "output_type": "stream",
     "text": [
      "enter the list 1\n",
      "enter the list 2\n"
     ]
    },
    {
     "name": "stdout",
     "output_type": "stream",
     "text": [
      "[1]\n",
      "[2]\n",
      "[[1]\n",
      " [2]]\n",
      "[[2]\n",
      " [1]]\n"
     ]
    }
   ],
   "source": [
    "import numpy as np\n",
    "arr=int(input(\"enter the list\"))\n",
    "arr_2=int(input(\"enter the list\"))\n",
    "print([arr])\n",
    "print([arr_2])\n",
    "reshaped_arr=np.array([[arr],[arr_2]])\n",
    "print(reshaped_arr)\n",
    "reshaped_arr=np.array([[arr_2],[arr]])\n",
    "print(reshaped_arr)"
   ]
  },
  {
   "cell_type": "code",
   "execution_count": 11,
   "id": "b65f8123-541e-4b83-96ea-44eacead717b",
   "metadata": {},
   "outputs": [
    {
     "name": "stdout",
     "output_type": "stream",
     "text": [
      "30\n",
      "[20 30 40]\n",
      "[[4 5 6]\n",
      " [7 8 9]]\n"
     ]
    }
   ],
   "source": [
    "import numpy as np\n",
    "arr=np.array([10,20,30,40,50])\n",
    "print(arr[2])\n",
    "print(arr[1:4])\n",
    "arr_2d=np.array([[1,2,3],[4,5,6],[7,8,9]])\n",
    "print(arr_2d[1:,:3])"
   ]
  },
  {
   "cell_type": "code",
   "execution_count": 13,
   "id": "d0fe6e3f-56a0-47d7-82c6-920bc6177788",
   "metadata": {},
   "outputs": [
    {
     "name": "stdout",
     "output_type": "stream",
     "text": [
      "[0 2 4 6 8]\n",
      "[0.   0.25 0.5  0.75 1.  ]\n",
      "[  10.           46.41588834  215.443469   1000.        ]\n"
     ]
    }
   ],
   "source": [
    "import numpy as np\n",
    "arr=np.arange(0,10,2)\n",
    "print(arr)\n",
    "arr=np.linspace(0,1,5)\n",
    "print(arr)\n",
    "arr=np.logspace(1,3,4)\n",
    "print(arr)"
   ]
  },
  {
   "cell_type": "code",
   "execution_count": 15,
   "id": "8a75352c-203d-4a9c-89c0-06495052b175",
   "metadata": {},
   "outputs": [
    {
     "name": "stdout",
     "output_type": "stream",
     "text": [
      "[[0. 0. 0.]\n",
      " [0. 0. 0.]]\n",
      "[[1. 1. 1.]\n",
      " [1. 1. 1.]]\n",
      "[[1 0 0 0]\n",
      " [0 1 0 0]\n",
      " [0 0 1 0]\n",
      " [0 0 0 1]]\n"
     ]
    }
   ],
   "source": [
    "import numpy as np\n",
    "zeros=np.zeros([2,3])\n",
    "print(zeros)\n",
    "ones=np.ones([2,3])\n",
    "print(ones)\n",
    "identity=np.eye(4,dtype=int)\n",
    "print(identity)\n"
   ]
  },
  {
   "cell_type": "code",
   "execution_count": 17,
   "id": "59926e54-3867-4d16-a6ab-9207dc040997",
   "metadata": {},
   "outputs": [
    {
     "name": "stdout",
     "output_type": "stream",
     "text": [
      "[[0.65730392 0.57112709 0.43553043]\n",
      " [0.62134426 0.93940909 0.70762786]]\n",
      "[[9 7 2]\n",
      " [3 6 1]\n",
      " [2 5 7]]\n"
     ]
    }
   ],
   "source": [
    "import numpy as np\n",
    "random_floats=np.random.rand(2,3)\n",
    "print(random_floats)\n",
    "random_ints=np.random.randint(1,10,(3,3))\n",
    "print(random_ints)"
   ]
  },
  {
   "cell_type": "markdown",
   "id": "ac2a219d-9167-4f93-be7c-d19ca3b6111b",
   "metadata": {},
   "source": [
    "## import numpy as np\n",
    "start = int(input(\"Enter start value: \"))\n",
    "end = int(input(\"Enter end value: \"))\n",
    "step = int(input(\"Enter step value: \"))\n",
    "arr = np.arange(start, end, step)\n",
    "print(arr)\n",
    "start = int(input(\"Enter start value: \"))\n",
    "end = int(input(\"Enter end value: \"))\n",
    "step = int(input(\"Enter number of samples: \"))  \n",
    "arr_1 = np.linspace(start, end, step)\n",
    "print(arr_1)\n",
    "start = int(input(\"Enter start value: \"))\n",
    "end = int(input(\"Enter end value: \"))\n",
    "step = int(input(\"Enter number of samples: \"))  \n",
    "arr = np.logspace(start, end, step)\n",
    "print(arr_2)\n",
    "    "
   ]
  },
  {
   "cell_type": "code",
   "execution_count": 20,
   "id": "8076a658-eb12-4ce4-8387-52ceb5026b9a",
   "metadata": {},
   "outputs": [
    {
     "name": "stdout",
     "output_type": "stream",
     "text": [
      "[[0 0 0]\n",
      " [0 0 0]]\n",
      "[[1 1 1]\n",
      " [1 1 1]]\n",
      "[[1 0 0]\n",
      " [0 1 0]\n",
      " [0 0 1]]\n"
     ]
    }
   ],
   "source": [
    "import numpy as np\n",
    "zeros=np.zeros([2,3],\"i\")\n",
    "print(zeros)\n",
    "ones=np.ones([2,3],\"i\")\n",
    "print(ones)\n",
    "identity=np.eye(3,dtype=int)\n",
    "print(identity)"
   ]
  },
  {
   "cell_type": "code",
   "execution_count": 22,
   "id": "c445a65b-ab66-411e-b6b2-49138ea4629d",
   "metadata": {},
   "outputs": [
    {
     "name": "stdin",
     "output_type": "stream",
     "text": [
      "enter row: 1 2 3\n"
     ]
    },
    {
     "ename": "ValueError",
     "evalue": "invalid literal for int() with base 10: '1 2 3'",
     "output_type": "error",
     "traceback": [
      "\u001b[1;31m---------------------------------------------------------------------------\u001b[0m",
      "\u001b[1;31mValueError\u001b[0m                                Traceback (most recent call last)",
      "Cell \u001b[1;32mIn[22], line 2\u001b[0m\n\u001b[0;32m      1\u001b[0m \u001b[38;5;28;01mimport\u001b[39;00m \u001b[38;5;21;01mnumpy\u001b[39;00m \u001b[38;5;28;01mas\u001b[39;00m \u001b[38;5;21;01mnp\u001b[39;00m\n\u001b[1;32m----> 2\u001b[0m r\u001b[38;5;241m=\u001b[39m\u001b[38;5;28mint\u001b[39m(\u001b[38;5;28minput\u001b[39m(\u001b[38;5;124m\"\u001b[39m\u001b[38;5;124menter row:\u001b[39m\u001b[38;5;124m\"\u001b[39m))\n\u001b[0;32m      3\u001b[0m c\u001b[38;5;241m=\u001b[39m\u001b[38;5;28mint\u001b[39m(\u001b[38;5;28minput\u001b[39m(\u001b[38;5;124m\"\u001b[39m\u001b[38;5;124menter col:\u001b[39m\u001b[38;5;124m\"\u001b[39m))\n\u001b[0;32m      4\u001b[0m r1\u001b[38;5;241m=\u001b[39m\u001b[38;5;28mint\u001b[39m(\u001b[38;5;28minput\u001b[39m(\u001b[38;5;124m\"\u001b[39m\u001b[38;5;124mmatrix:\u001b[39m\u001b[38;5;124m\"\u001b[39m))\n",
      "\u001b[1;31mValueError\u001b[0m: invalid literal for int() with base 10: '1 2 3'"
     ]
    }
   ],
   "source": [
    "import numpy as np\n",
    "r=int(input(\"enter row:\"))\n",
    "c=int(input(\"enter col:\"))\n",
    "r1=int(input(\"matrix:\"))\n",
    "c1=int(input(\"martix2:\"))\n",
    "zeros=np.zeros([r,c],\"i\")\n",
    "print(zeros)\n",
    "random_f=np.random.rand(r,c)\n",
    "print(random_f)\n",
    "print(np.random.randint(r,c,(r1,c1)))"
   ]
  },
  {
   "cell_type": "code",
   "execution_count": 24,
   "id": "b500a9a3-4d2d-4e9c-93e3-65c3ee745f0c",
   "metadata": {},
   "outputs": [
    {
     "name": "stdout",
     "output_type": "stream",
     "text": [
      "[5 7 9]\n",
      "[-3 -3 -3]\n",
      "[ 4 10 18]\n",
      "[0.25 0.4  0.5 ]\n"
     ]
    }
   ],
   "source": [
    "import numpy as np\n",
    "a=np.array([1,2,3])\n",
    "b=np.array([4,5,6])\n",
    "print(a+b)\n",
    "print(a-b)\n",
    "print(a*b)\n",
    "print(a/b)"
   ]
  },
  {
   "cell_type": "code",
   "execution_count": 26,
   "id": "039bd4ff-8d37-40cf-b763-630569a27c55",
   "metadata": {},
   "outputs": [
    {
     "name": "stdout",
     "output_type": "stream",
     "text": [
      "[[19 22]\n",
      " [43 50]]\n"
     ]
    }
   ],
   "source": [
    "import numpy as np\n",
    "a=np.array(([[1,2],[3,4]]))\n",
    "b=np.array([[5,6],[7,8]])\n",
    "result=np.dot(a,b)\n",
    "print(result)\n"
   ]
  },
  {
   "cell_type": "code",
   "execution_count": 28,
   "id": "33c8b68b-d682-487e-bfba-fa144af67c3b",
   "metadata": {},
   "outputs": [
    {
     "name": "stdout",
     "output_type": "stream",
     "text": [
      "[[11 12 13]\n",
      " [21 22 23]\n",
      " [31 32 33]]\n"
     ]
    }
   ],
   "source": [
    "import numpy as np\n",
    "a=np.array([1,2,3])\n",
    "b=np.array([[10],[20],[30]])\n",
    "print(a+b)"
   ]
  },
  {
   "cell_type": "code",
   "execution_count": 30,
   "id": "a8769279-5b46-480c-b479-8ebf83d3ada4",
   "metadata": {},
   "outputs": [
    {
     "name": "stdout",
     "output_type": "stream",
     "text": [
      "sum: 21\n",
      "minimum: 1\n",
      "maximum: 6\n",
      "mean: 3.5\n"
     ]
    }
   ],
   "source": [
    "import numpy as np\n",
    "arr=np.array([[1,2,3],[4,5,6]])\n",
    "print(\"sum:\",np.sum(arr))\n",
    "print(\"minimum:\",np.min(arr))\n",
    "print(\"maximum:\",np.max(arr))\n",
    "print(\"mean:\",np.mean(arr))"
   ]
  },
  {
   "cell_type": "code",
   "execution_count": 32,
   "id": "4a44fdaf-9e80-4b46-a061-72baa5c688a8",
   "metadata": {},
   "outputs": [
    {
     "name": "stdout",
     "output_type": "stream",
     "text": [
      "[5 7 9]\n",
      "[2 5]\n"
     ]
    }
   ],
   "source": [
    "import numpy as np\n",
    "arr=np.array([[1,2,3],[4,5,6]])\n",
    "print(np.sum(arr,axis=0))\n",
    "print(np.mean(arr,axis=1,dtype=int))\n"
   ]
  },
  {
   "cell_type": "code",
   "execution_count": 34,
   "id": "f27ff908-8c6e-44b8-bdeb-4d1564d81cdf",
   "metadata": {},
   "outputs": [
    {
     "name": "stdout",
     "output_type": "stream",
     "text": [
      "[ 1  3  6 10]\n",
      "[ 1  2  6 24]\n"
     ]
    }
   ],
   "source": [
    "import numpy as np\n",
    "arr=np.array([1,2,3,4])\n",
    "print(np.cumsum(arr))\n",
    "print(np.cumprod(arr))\n"
   ]
  },
  {
   "cell_type": "code",
   "execution_count": 36,
   "id": "8c5b8a82-fac2-4cab-8a93-de87c5e152a2",
   "metadata": {},
   "outputs": [
    {
     "name": "stdout",
     "output_type": "stream",
     "text": [
      "[ 1  3  7 10]\n",
      "[3 1 2 0]\n"
     ]
    }
   ],
   "source": [
    "import numpy as np\n",
    "arr=np.array([10,3,7,1])\n",
    "sorted_arr=np.sort(arr)\n",
    "print(sorted_arr)\n",
    "sorted_indices=np.argsort(arr)\n",
    "print(sorted_indices)"
   ]
  },
  {
   "cell_type": "code",
   "execution_count": null,
   "id": "68b4206f-88b4-4522-b735-5dafac5a7371",
   "metadata": {},
   "outputs": [],
   "source": [
    "import numpy as np\n",
    "arr=np.array([1,2,3,2,2,3,3,3])\n",
    "unique_elements=np.unique(arr)\n",
    "print(unique_elements)"
   ]
  },
  {
   "cell_type": "code",
   "execution_count": null,
   "id": "69d2da2e-b644-4e68-833d-1490476bc05f",
   "metadata": {},
   "outputs": [],
   "source": [
    "import numpy as np\n",
    "arr=np.array([10,15,20,25])\n",
    "indices=np.where(arr>15)\n",
    "print(indices)\n",
    "values=arr[np.where(arr>15)]\n",
    "print(values)\n"
   ]
  },
  {
   "cell_type": "code",
   "execution_count": null,
   "id": "d9bcdd5b-1013-41a4-9e9f-234edf04c4f0",
   "metadata": {},
   "outputs": [],
   "source": [
    "import numpy as np\n",
    "arr=np.array([[1,2,3],[4,5,6]])\n",
    "print(np.transpose(arr))\n"
   ]
  },
  {
   "cell_type": "code",
   "execution_count": null,
   "id": "86d365a8-1778-4b3f-af81-a182c5caefdd",
   "metadata": {},
   "outputs": [],
   "source": [
    "import numpy as np\n",
    "arr=np.array([[1,2],[3,4]])\n",
    "det = np.linalg.det(arr)\n",
    "print(det)\n",
    "inv=np.linalg.inv(arr)\n",
    "print(inv)\n"
   ]
  },
  {
   "cell_type": "code",
   "execution_count": null,
   "id": "a3b53341-00e6-40c4-ae03-cc4d835e6bb9",
   "metadata": {},
   "outputs": [],
   "source": [
    "import numpy as np\n",
    "a=np.array([[1,2,3],[7,8,9]])\n",
    "b=np.array([[4,5,6],[3,2,1]])\n",
    "concated=np.concatenate([a,b])\n",
    "print(concated)\n"
   ]
  },
  {
   "cell_type": "code",
   "execution_count": null,
   "id": "b954af89-f78e-4a7b-81aa-507e827b9ca3",
   "metadata": {},
   "outputs": [],
   "source": [
    "import numpy as np\n",
    "arr=np.array([1,2,3,4,5,6])\n",
    "arr1=np.array([[11,12,13],[14,15,16],[20,21,23]])\n",
    "split_arr=np.split(arr,3)\n",
    "print(split_arr)\n"
   ]
  },
  {
   "cell_type": "code",
   "execution_count": null,
   "id": "1add42e9-5f3e-4342-aefb-e23e05c9c651",
   "metadata": {},
   "outputs": [],
   "source": [
    "import numpy as np\n",
    "arr=np.array([[2,7,6],[9,5,1],[4,3,8]])\n",
    "print(\"sum:\",np.sum(arr))\n",
    "diagonal=np.diagonal(arr)\n",
    "print(diagonal)\n",
    "vstacked=np.vstack([arr])\n",
    "print(vstacked)\n",
    "hstacked=np.hstack([arr])\n",
    "print(hstacked)\n",
    "print(np.sum(arr,axis=0))\n",
    "print(np.sum(arr,axis=1))\n",
    "print(np.sum(diagonal))\n"
   ]
  },
  {
   "cell_type": "code",
   "execution_count": null,
   "id": "f28e0b16-52e6-404d-89ef-86e2b8c055a9",
   "metadata": {},
   "outputs": [],
   "source": [
    "import numpy as np\n",
    "a=[]\n",
    "r=int(input(\"enter numbers:\"))\n",
    "for i in range(r):\n",
    "    c=int(input(\"enter \"+str(i+1)+\" value:\"))\n",
    "    a.append(c)\n",
    "arr_2d=np.array(a)\n",
    "unique_elements=np.unique(arr_2d)\n",
    "print(unique_elements)\n",
    "a=np.size(arr_2d)\n",
    "print(a)\n",
    "b=np.size(unique_elements)\n",
    "print(b)\n",
    "reshaped_arr=arr_2d.reshape(3,3)\n",
    "print(reshaped_arr)\n",
    "x=np.sum(reshaped_arr,axis=0)#column\n",
    "y=np.sum(reshaped_arr,axis=1)\n",
    "t=np.trace(reshaped_arr)\n",
    "print(x)\n",
    "print(y)\n",
    "if np.unique(x)==np.unique(y)==t:\n",
    "   print(\"magic\")\n",
    "else:\n",
    "   print(\"not magic\")"
   ]
  },
  {
   "cell_type": "code",
   "execution_count": null,
   "id": "0b5c20ab-a010-4297-9a28-b20aaa1eaf65",
   "metadata": {},
   "outputs": [],
   "source": [
    "import numpy as np\n",
    "A=[]\n",
    "A=list(map(lambda x: x, range(0, 10)))\n",
    "print(A)"
   ]
  },
  {
   "cell_type": "code",
   "execution_count": null,
   "id": "991fcc9d-f64b-4740-aaf2-d5eaa6626633",
   "metadata": {},
   "outputs": [],
   "source": [
    "import numpy as np\n",
    "arr=np.random.randint(1,20,(3,3))\n",
    "print(arr)\n",
    "print(\"sum:\",np.sum(arr,axis=1))\n",
    "\n"
   ]
  },
  {
   "cell_type": "code",
   "execution_count": null,
   "id": "2f100426-70cb-41d5-9833-7e0d25c3755b",
   "metadata": {},
   "outputs": [],
   "source": [
    "import numpy as np\n",
    "A=[[1,2],[3,4]]\n",
    "B=[[5,6],[7,8]]\n",
    "add=np.add(A,B)\n",
    "print(add)\n",
    "mul=np.multiply(A,B)\n",
    "print(mul)\n",
    "dot=np.dot(A,B)\n",
    "print(dot)\n",
    "\n"
   ]
  },
  {
   "cell_type": "code",
   "execution_count": null,
   "id": "31fcc31a-7999-4e04-93e8-13dab93b44a8",
   "metadata": {},
   "outputs": [],
   "source": [
    "import numpy as np\n",
    "A=[]\n",
    "B=[]\n",
    "A=list(map(lambda x: x, range(1, 5)))\n",
    "B=list(map(lambda x: x, range(6,10)))\n",
    "add=np.add(A,B)\n",
    "print(add)\n",
    "mul=np.multiply(A,B)\n",
    "print(mul)\n",
    "dot=np.dot(A,B)\n",
    "print(dot)\n"
   ]
  },
  {
   "cell_type": "code",
   "execution_count": null,
   "id": "7d6699f0-e107-4f45-90f1-0d0ba96f51e8",
   "metadata": {},
   "outputs": [],
   "source": [
    "import numpy as np\n",
    "A = np.array([[1, 2], [3, 4]])\n",
    "B = np.array([[5, 6], [7, 8]])\n",
    "result = np.dot(A, B)\n",
    "print(\"Matrix Multiplication (using dot):\\n\", result)\n",
    "result2 = A @ B\n",
    "print(\"Matrix Multiplication (using @):\\n\", result2)"
   ]
  },
  {
   "cell_type": "code",
   "execution_count": null,
   "id": "d734291b-0644-42aa-b9d4-b459d092bd7f",
   "metadata": {},
   "outputs": [],
   "source": [
    "import numpy as np\n",
    "arr = np.array([1, 2, 3, 4, 5, 6])\n",
    "mask = arr % 2 == 0\n",
    "print(\"Mask for even numbers:\", mask)\n",
    "even_numbers = arr[mask]\n",
    "print(\"Even Numbers:\", even_numbers)"
   ]
  },
  {
   "cell_type": "code",
   "execution_count": null,
   "id": "06b268ff-6990-495f-9aaf-cf752c51c9f0",
   "metadata": {},
   "outputs": [],
   "source": [
    "import numpy as np\n",
    "arr = np.array([10, 20, 30, 40, 50])\n",
    "indices = [0, 2, 4]\n",
    "result = arr[indices]\n",
    "print(\"Elements at indices 0, 2, 4:\", result)"
   ]
  },
  {
   "cell_type": "code",
   "execution_count": null,
   "id": "6cf023a1-c0ca-449c-8da4-ad55a53d253b",
   "metadata": {},
   "outputs": [],
   "source": [
    "import numpy as np\n",
    "angles=np.array([0,np.pi/2,np.pi])\n",
    "sine_values=np.sin(angles)\n",
    "cosine_values=np.cos(angles)\n",
    "tangent_values=np.tan(angles)\n",
    "print(\"sine_values:\",sine_values)\n",
    "print(\"cosine_values:\",cosine_values)\n",
    "print(\"tangent_values:\",tangent_values)"
   ]
  },
  {
   "cell_type": "code",
   "execution_count": null,
   "id": "6a752e2c-f3a6-4484-8820-36a3b1f07564",
   "metadata": {},
   "outputs": [],
   "source": [
    "import numpy as np\n",
    "arcsin_values=np.arcsin(1)\n",
    "print(\"arcsin(1):\",np.degrees(arcsin_values))"
   ]
  },
  {
   "cell_type": "code",
   "execution_count": null,
   "id": "69c2b001-845b-4e6f-ae31-b5d400c4886c",
   "metadata": {},
   "outputs": [],
   "source": [
    "import numpy as np\n",
    "arr=np.array([1,2,3])\n",
    "exp_values=np.exp(arr)\n",
    "print(\"exponential values:\",exp_values)\n",
    "log_values=np.log(arr)\n",
    "print(\"Natural log:\",log_values)\n",
    "log10_values=np.log10(arr)\n",
    "print(\"log base 10:\",log10_values) "
   ]
  },
  {
   "cell_type": "code",
   "execution_count": null,
   "id": "7bab6b6f-9272-4420-ab56-e0c5a5d18bbd",
   "metadata": {},
   "outputs": [],
   "source": [
    "import numpy as np\n",
    "arr=np.array([1.56,2.35,3.89])\n",
    "rounded=np.round(arr)\n",
    "print(\"Rounded values:\",rounded)\n",
    "floored=np.floor(arr)\n",
    "print(\"floored values:\",floored)\n",
    "ceiled=np.ceil(arr)\n",
    "print(\"ceiled values:\",ceiled)"
   ]
  },
  {
   "cell_type": "code",
   "execution_count": null,
   "id": "62f2e65b-586f-412b-be2e-739b8d2421ab",
   "metadata": {},
   "outputs": [],
   "source": [
    "import numpy as np\n",
    "data=np.array([1,2,3,4,5])\n",
    "mean_value=np.mean(data)\n",
    "print(\"mean:\",mean_value)\n",
    "median_value=np.median(data)\n",
    "print(\"median:\",median_value)\n",
    "variance_value=np.var(data)\n",
    "print(\"variance:\",variance_value)\n",
    "std_dev_value=np.std(data)\n",
    "print(\"standard deviation:\",std_dev_value)\n"
   ]
  },
  {
   "cell_type": "code",
   "execution_count": null,
   "id": "13f694e5-6e69-4345-ba88-34893ffd80ed",
   "metadata": {},
   "outputs": [],
   "source": [
    "import numpy as np\n",
    "A=np.array([[2,1,-1],[-3,-1,2],[-2,1,2]])\n",
    "B=np.array([8,-11,-3])\n",
    "x=np.linalg.solve(A,B)\n",
    "print(\"solution:\",x)"
   ]
  },
  {
   "cell_type": "code",
   "execution_count": null,
   "id": "87b58802-520f-4586-8cfd-3e3e4e549677",
   "metadata": {},
   "outputs": [],
   "source": [
    "import numpy as np\n",
    "A=np.array([[1,2],[3,4]])\n",
    "B=np.array([2,3])\n",
    "x=np.linalg.solve(A,B)\n",
    "print(\"solution:\",x)"
   ]
  },
  {
   "cell_type": "code",
   "execution_count": null,
   "id": "4d9e0ed6-a814-431b-9f63-ea0ae0893781",
   "metadata": {},
   "outputs": [],
   "source": [
    "import numpy as np\n",
    "arr=np.array([1,np.nan,3,4])\n",
    "nan_check=np.isnan(arr)\n",
    "print(\"nan check:\",nan_check)\n",
    "arr_cleaned=np.nan_to_num(arr,nan=-1)\n",
    "print(\"cleaned array:\",arr_cleaned)"
   ]
  },
  {
   "cell_type": "code",
   "execution_count": null,
   "id": "e7ea803d-b428-4175-88ea-82c83a547c13",
   "metadata": {},
   "outputs": [],
   "source": [
    "import time\n",
    "import numpy as np\n",
    "arr=np.arange(1e6)\n",
    "print(arr)\n",
    "start=time.time()\n",
    "loop_result=[x**2 for x in arr]\n",
    "end=time.time()\n",
    "print(\"loop time:\",end-start)\n",
    "start=time.time()\n",
    "vectorized_result=arr**2\n",
    "end=time.time()\n",
    "print(\"numpy time:\",end-start)"
   ]
  }
 ],
 "metadata": {
  "kernelspec": {
   "display_name": "Python 3 (ipykernel)",
   "language": "python",
   "name": "python3"
  },
  "language_info": {
   "codemirror_mode": {
    "name": "ipython",
    "version": 3
   },
   "file_extension": ".py",
   "mimetype": "text/x-python",
   "name": "python",
   "nbconvert_exporter": "python",
   "pygments_lexer": "ipython3",
   "version": "3.12.7"
  }
 },
 "nbformat": 4,
 "nbformat_minor": 5
}
