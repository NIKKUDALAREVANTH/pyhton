{
 "cells": [
  {
   "cell_type": "code",
   "execution_count": 23,
   "id": "40c4c950-682c-4123-b909-0f64b3417b91",
   "metadata": {},
   "outputs": [
    {
     "name": "stdout",
     "output_type": "stream",
     "text": [
      "Collecting PyMySQL\n",
      "  Using cached PyMySQL-1.1.1-py3-none-any.whl.metadata (4.4 kB)\n",
      "Using cached PyMySQL-1.1.1-py3-none-any.whl (44 kB)\n",
      "Installing collected packages: PyMySQL\n",
      "Successfully installed PyMySQL-1.1.1\n",
      "Collecting ipython.sql\n",
      "  Using cached ipython_sql-0.5.0-py3-none-any.whl.metadata (17 kB)\n",
      "Collecting prettytable (from ipython.sql)\n",
      "  Using cached prettytable-3.12.0-py3-none-any.whl.metadata (30 kB)\n",
      "Requirement already satisfied: ipython in c:\\users\\nikkudala.revanth\\anaconda3\\lib\\site-packages (from ipython.sql) (8.27.0)\n",
      "Requirement already satisfied: sqlalchemy>=2.0 in c:\\users\\nikkudala.revanth\\anaconda3\\lib\\site-packages (from ipython.sql) (2.0.34)\n",
      "Collecting sqlparse (from ipython.sql)\n",
      "  Using cached sqlparse-0.5.3-py3-none-any.whl.metadata (3.9 kB)\n",
      "Requirement already satisfied: six in c:\\users\\nikkudala.revanth\\anaconda3\\lib\\site-packages (from ipython.sql) (1.16.0)\n",
      "Requirement already satisfied: ipython-genutils in c:\\users\\nikkudala.revanth\\anaconda3\\lib\\site-packages (from ipython.sql) (0.2.0)\n",
      "Requirement already satisfied: typing-extensions>=4.6.0 in c:\\users\\nikkudala.revanth\\anaconda3\\lib\\site-packages (from sqlalchemy>=2.0->ipython.sql) (4.11.0)\n",
      "Requirement already satisfied: greenlet!=0.4.17 in c:\\users\\nikkudala.revanth\\anaconda3\\lib\\site-packages (from sqlalchemy>=2.0->ipython.sql) (3.0.1)\n",
      "Requirement already satisfied: decorator in c:\\users\\nikkudala.revanth\\anaconda3\\lib\\site-packages (from ipython->ipython.sql) (5.1.1)\n",
      "Requirement already satisfied: jedi>=0.16 in c:\\users\\nikkudala.revanth\\anaconda3\\lib\\site-packages (from ipython->ipython.sql) (0.19.1)\n",
      "Requirement already satisfied: matplotlib-inline in c:\\users\\nikkudala.revanth\\anaconda3\\lib\\site-packages (from ipython->ipython.sql) (0.1.6)\n",
      "Requirement already satisfied: prompt-toolkit<3.1.0,>=3.0.41 in c:\\users\\nikkudala.revanth\\anaconda3\\lib\\site-packages (from ipython->ipython.sql) (3.0.43)\n",
      "Requirement already satisfied: pygments>=2.4.0 in c:\\users\\nikkudala.revanth\\anaconda3\\lib\\site-packages (from ipython->ipython.sql) (2.15.1)\n",
      "Requirement already satisfied: stack-data in c:\\users\\nikkudala.revanth\\anaconda3\\lib\\site-packages (from ipython->ipython.sql) (0.2.0)\n",
      "Requirement already satisfied: traitlets>=5.13.0 in c:\\users\\nikkudala.revanth\\anaconda3\\lib\\site-packages (from ipython->ipython.sql) (5.14.3)\n",
      "Requirement already satisfied: colorama in c:\\users\\nikkudala.revanth\\anaconda3\\lib\\site-packages (from ipython->ipython.sql) (0.4.6)\n",
      "Requirement already satisfied: wcwidth in c:\\users\\nikkudala.revanth\\anaconda3\\lib\\site-packages (from prettytable->ipython.sql) (0.2.5)\n",
      "Requirement already satisfied: parso<0.9.0,>=0.8.3 in c:\\users\\nikkudala.revanth\\anaconda3\\lib\\site-packages (from jedi>=0.16->ipython->ipython.sql) (0.8.3)\n",
      "Requirement already satisfied: executing in c:\\users\\nikkudala.revanth\\anaconda3\\lib\\site-packages (from stack-data->ipython->ipython.sql) (0.8.3)\n",
      "Requirement already satisfied: asttokens in c:\\users\\nikkudala.revanth\\anaconda3\\lib\\site-packages (from stack-data->ipython->ipython.sql) (2.0.5)\n",
      "Requirement already satisfied: pure-eval in c:\\users\\nikkudala.revanth\\anaconda3\\lib\\site-packages (from stack-data->ipython->ipython.sql) (0.2.2)\n",
      "Using cached ipython_sql-0.5.0-py3-none-any.whl (20 kB)\n",
      "Using cached prettytable-3.12.0-py3-none-any.whl (31 kB)\n",
      "Using cached sqlparse-0.5.3-py3-none-any.whl (44 kB)\n",
      "Installing collected packages: sqlparse, prettytable, ipython.sql\n",
      "Successfully installed ipython.sql-0.5.0 prettytable-3.12.0 sqlparse-0.5.3\n",
      "Collecting mysqlclient\n",
      "  Using cached mysqlclient-2.2.6-cp312-cp312-win_amd64.whl.metadata (4.8 kB)\n",
      "Using cached mysqlclient-2.2.6-cp312-cp312-win_amd64.whl (207 kB)\n",
      "Installing collected packages: mysqlclient\n",
      "Successfully installed mysqlclient-2.2.6\n"
     ]
    }
   ],
   "source": [
    "!pip install PyMySQL\n",
    "!pip install ipython.sql\n",
    "!pip install mysqlclient"
   ]
  },
  {
   "cell_type": "code",
   "execution_count": 41,
   "id": "03fe2846-85ed-46fa-adc4-82a9c6c2fc3c",
   "metadata": {},
   "outputs": [],
   "source": [
    "import pymysql"
   ]
  },
  {
   "cell_type": "code",
   "execution_count": 45,
   "id": "dd1c8e66-293b-4fe0-b280-ba280d878cbb",
   "metadata": {},
   "outputs": [
    {
     "name": "stdout",
     "output_type": "stream",
     "text": [
      "connection successfull\n"
     ]
    }
   ],
   "source": [
    "db_name=\"client\"\n",
    "db_host=\"localhost\"\n",
    "db_username=\"root\"\n",
    "db_password=\"#Rev1234\"\n",
    "try:\n",
    "    conn=pymysql.connect(host=db_host,port=int(3306),user=\"root\",passwd=\"#Rev1234\",db=db_name)\n",
    "except e:\n",
    "    print(e)\n",
    "if conn:\n",
    "    print(\"connection successfull\")\n",
    "else:\n",
    "   print(\"error\")"
   ]
  },
  {
   "cell_type": "code",
   "execution_count": 47,
   "id": "bac6b0b3-202b-4d6f-906b-dad95179bd1f",
   "metadata": {},
   "outputs": [
    {
     "name": "stdout",
     "output_type": "stream",
     "text": [
      "Available Databases :\n",
      "bank_details\n",
      "client\n",
      "emp_details\n",
      "employee_details\n",
      "information_schema\n",
      "institute\n",
      "library\n",
      "mysql\n",
      "office\n",
      "performance_schema\n",
      "supermarket\n",
      "sys\n",
      "warehouse1\n"
     ]
    }
   ],
   "source": [
    "try:\n",
    "    conn=pymysql.connect(host=\"localhost\",user=\"root\",password=\"#Rev1234\")\n",
    "    m1=conn.cursor()\n",
    "    m1.execute(\"show databases\")\n",
    "    print(\"Available Databases :\")\n",
    "    i=1\n",
    "    for db in m1:\n",
    "        print(db[0])  \n",
    "        i += 1\n",
    "except e:\n",
    "    print(e)"
   ]
  },
  {
   "cell_type": "code",
   "execution_count": 68,
   "id": "a1352501-093b-4f97-a813-07b5eed4268c",
   "metadata": {},
   "outputs": [
    {
     "ename": "IndentationError",
     "evalue": "unindent does not match any outer indentation level (<string>, line 11)",
     "output_type": "error",
     "traceback": [
      "\u001b[1;36m  File \u001b[1;32m<string>:11\u001b[1;36m\u001b[0m\n\u001b[1;33m    mycursor.execute(query)\u001b[0m\n\u001b[1;37m                           ^\u001b[0m\n\u001b[1;31mIndentationError\u001b[0m\u001b[1;31m:\u001b[0m unindent does not match any outer indentation level\n"
     ]
    }
   ],
   "source": [
    "import mysql.connector\n",
    "def select_query_basic(table_name, conditions):\n",
    "    try:\n",
    "        mydb = mysql.connector.connect(host=\"localhost\",user=\"root\",password=\"#Rev1234\",database=\"emp_details\")\n",
    "        mycursor = mydb.cursor()\n",
    "        #mycursor.execute(\"select * from emp\")\n",
    "        query = f\"SELECT * FROM {emp}\"\n",
    "        if conditions:\n",
    "            where_clause = \" AND \".join([key + \"='\" + str(value) + \"'\" for key, value in conditions.items()])\n",
    "            \n",
    "           mycursor.execute(query)\n",
    "        results = mycursor.fetchall()\n",
    "        for row in results:\n",
    "            print(row)\n",
    "\n",
    "    except mysql.connector.Error as err:\n",
    "        print(\"Error:\",err)\n",
    "select_query_basic('emp', {'position': 'Manager', 'department': 'HR'})"
   ]
  }
 ],
 "metadata": {
  "kernelspec": {
   "display_name": "Python 3 (ipykernel)",
   "language": "python",
   "name": "python3"
  },
  "language_info": {
   "codemirror_mode": {
    "name": "ipython",
    "version": 3
   },
   "file_extension": ".py",
   "mimetype": "text/x-python",
   "name": "python",
   "nbconvert_exporter": "python",
   "pygments_lexer": "ipython3",
   "version": "3.12.7"
  }
 },
 "nbformat": 4,
 "nbformat_minor": 5
}
