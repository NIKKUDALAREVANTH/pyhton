{
 "cells": [
  {
   "cell_type": "code",
   "execution_count": 7,
   "id": "fe31ac72-b5e7-41b9-a092-e6c0c74c6ac6",
   "metadata": {},
   "outputs": [
    {
     "name": "stdout",
     "output_type": "stream",
     "text": [
      "No match\n"
     ]
    }
   ],
   "source": [
    "import re\n",
    "txt=\"the rain in AP\"\n",
    "x=re.search(\"^The.*AP$\",txt)\n",
    "if (x):\n",
    "   print(\"YES!We have a match!\")\n",
    "else:\n",
    "   print(\"No match\")"
   ]
  },
  {
   "cell_type": "code",
   "execution_count": 9,
   "id": "a9afc687-6a9f-4cba-ad23-e132ccf1a086",
   "metadata": {},
   "outputs": [
    {
     "name": "stdout",
     "output_type": "stream",
     "text": [
      "['ai', 'ai']\n"
     ]
    }
   ],
   "source": [
    "import re\n",
    "str=\"The rain is gain\"\n",
    "x=re.findall(\"ai\",str)\n",
    "print(x)"
   ]
  },
  {
   "cell_type": "code",
   "execution_count": null,
   "id": "e2787dbb-2f58-46c0-9546-8f2f3b7915ff",
   "metadata": {},
   "outputs": [],
   "source": [
    "\n",
    "import re\n",
    "str=\"The rain is gain\"\n",
    "x=re.search(r\"\\s\",str)\n",
    "print(\"The first white-space character is located in position:\",x.start())"
   ]
  },
  {
   "cell_type": "code",
   "execution_count": null,
   "id": "9651522b-ecbf-4708-9dac-de5a893c9cbe",
   "metadata": {},
   "outputs": [],
   "source": [
    "import re\n",
    "str=\"The rain is gain\"\n",
    "x=re.split(r\"\\s\",str)\n",
    "print(x)"
   ]
  },
  {
   "cell_type": "code",
   "execution_count": null,
   "id": "23c940d0-0667-432e-8256-d3828652d1f0",
   "metadata": {},
   "outputs": [],
   "source": [
    "import re\n",
    "str=\"The rain is gain in all seasons\"\n",
    "x=re.split(r\"\\s\",str,2)\n",
    "print(x)"
   ]
  },
  {
   "cell_type": "code",
   "execution_count": null,
   "id": "3a995862-36ac-462e-93d8-cf163c6f0f24",
   "metadata": {},
   "outputs": [],
   "source": [
    "import re\n",
    "str=\"The rain in spain\"\n",
    "x=re.sub(r\"\\s\",\"-\",str)\n",
    "print(x)"
   ]
  },
  {
   "cell_type": "code",
   "execution_count": null,
   "id": "52ff07fa-8c8f-420f-83c6-518e93208046",
   "metadata": {},
   "outputs": [],
   "source": [
    "import re\n",
    "str=\"The rain is gain\"\n",
    "x=re.sub(r\"\\s\",\"-\",str,2)\n",
    "print(x)"
   ]
  },
  {
   "cell_type": "code",
   "execution_count": null,
   "id": "e829ad8a-bd8a-4e15-98db-b4ca8e4fc946",
   "metadata": {},
   "outputs": [],
   "source": [
    "import re\n",
    "str=\"The rain is gain\"\n",
    "x=re.search(\"ai\",str)\n",
    "print(x)"
   ]
  },
  {
   "cell_type": "code",
   "execution_count": null,
   "id": "187eb649-be7c-4626-972e-d5de579f4203",
   "metadata": {},
   "outputs": [],
   "source": [
    "import re\n",
    "str=\"The rain in Andhra\"\n",
    "x=re.search(r\"\\bA\\w+\",str)\n",
    "print(x.span())"
   ]
  },
  {
   "cell_type": "code",
   "execution_count": 5,
   "id": "aa4c3f4d-cb54-4f20-a240-08d8b0bc608a",
   "metadata": {},
   "outputs": [
    {
     "name": "stdout",
     "output_type": "stream",
     "text": [
      "ANdhra\n"
     ]
    }
   ],
   "source": [
    "import re\n",
    "str=\"The rain in ANdhra\"\n",
    "x=re.search(r\"\\bAN\\w+\",str)\n",
    "print(x.group())"
   ]
  },
  {
   "cell_type": "code",
   "execution_count": 3,
   "id": "47dc864d-ca9c-4ff9-839c-adcf61ec14dd",
   "metadata": {},
   "outputs": [
    {
     "name": "stdin",
     "output_type": "stream",
     "text": [
      "enter a word rev\n",
      "enter a word anth\n"
     ]
    },
    {
     "name": "stdout",
     "output_type": "stream",
     "text": [
      "revanth\n"
     ]
    }
   ],
   "source": [
    "n1=input(\"enter a word\")\n",
    "n2=input(\"enter a word\")\n",
    "m=n1+n2\n",
    "print(m)"
   ]
  }
 ],
 "metadata": {
  "kernelspec": {
   "display_name": "Python 3 (ipykernel)",
   "language": "python",
   "name": "python3"
  },
  "language_info": {
   "codemirror_mode": {
    "name": "ipython",
    "version": 3
   },
   "file_extension": ".py",
   "mimetype": "text/x-python",
   "name": "python",
   "nbconvert_exporter": "python",
   "pygments_lexer": "ipython3",
   "version": "3.12.7"
  }
 },
 "nbformat": 4,
 "nbformat_minor": 5
}
