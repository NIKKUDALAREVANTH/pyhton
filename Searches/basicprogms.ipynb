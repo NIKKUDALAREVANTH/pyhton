{
 "cells": [
  {
   "cell_type": "code",
   "execution_count": 5,
   "id": "ed9b921a-a6b5-4455-8ac9-d7f245d32e85",
   "metadata": {},
   "outputs": [
    {
     "name": "stdin",
     "output_type": "stream",
     "text": [
      "enter value for n1 20\n",
      "enter value for n2 30\n"
     ]
    },
    {
     "name": "stdout",
     "output_type": "stream",
     "text": [
      " sum of n1 and n2 is 50\n"
     ]
    }
   ],
   "source": [
    "#additon of two numbers\n",
    "n1=int(input(\"enter value for n1\"))\n",
    "n2=int(input(\"enter value for n2\"))\n",
    "print(' sum of n1 and n2 is',n1+n2)"
   ]
  },
  {
   "cell_type": "code",
   "execution_count": 7,
   "id": "594a5c5f-4660-48ad-b183-a14f057ef664",
   "metadata": {},
   "outputs": [
    {
     "name": "stdin",
     "output_type": "stream",
     "text": [
      "enter value for n1 20\n",
      "enter value for n2 30\n"
     ]
    },
    {
     "name": "stdout",
     "output_type": "stream",
     "text": [
      "-10\n"
     ]
    }
   ],
   "source": [
    "#subtraction of two numbers\n",
    "n1=int(input(\"enter value for n1\"))\n",
    "n2=int(input(\"enter value for n2\"))\n",
    "print('subtraction of n1 and n2',n1-n2)"
   ]
  },
  {
   "cell_type": "code",
   "execution_count": null,
   "id": "9abb5311-773d-4b73-a132-4d6b1f0995d2",
   "metadata": {},
   "outputs": [],
   "source": [
    "#multiplication of two numbers\n",
    "n1=int(input(\"enter value for n1\"))\n",
    "n2=int(input(\"enter value for n2\"))\n",
    "print(n1*n2)\n"
   ]
  },
  {
   "cell_type": "code",
   "execution_count": null,
   "id": "8dd30073-8695-40e0-8552-8936c1039c1b",
   "metadata": {},
   "outputs": [],
   "source": [
    "#divition of two numbers\n",
    "n1=int(input(\"enter value for n1\"))\n",
    "n2=int(input(\"enter value for n2\"))\n",
    "print(n1/n2)"
   ]
  },
  {
   "cell_type": "code",
   "execution_count": null,
   "id": "a08d07f6-a565-422f-be9c-00e814d473c8",
   "metadata": {},
   "outputs": [],
   "source": [
    "#swaping of two numbers\n",
    "n1=int(input(\"enter value for n1\"))\n",
    "n2=int(input(\"enter value for n2\"))\n",
    "temp=n1\n",
    "n1=n2\n",
    "n2=temp\n",
    "print(n1,n2)"
   ]
  },
  {
   "cell_type": "code",
   "execution_count": 9,
   "id": "df47d47d-3daf-4b8b-b15b-a9cb0ca004fa",
   "metadata": {},
   "outputs": [
    {
     "name": "stdin",
     "output_type": "stream",
     "text": [
      "enter value for n1 12\n",
      "enter value for n2 21\n"
     ]
    },
    {
     "name": "stdout",
     "output_type": "stream",
     "text": [
      "21 12\n"
     ]
    }
   ],
   "source": [
    "#swaping of nubers\n",
    "n1=int(input(\"enter value for n1\"))\n",
    "n2=int(input(\"enter value for n2\"))\n",
    "n1=n1+n2\n",
    "n2=n1-n2\n",
    "n1=n1-n2\n",
    "print(n1,n2)"
   ]
  },
  {
   "cell_type": "code",
   "execution_count": 15,
   "id": "003fcbab-ba4a-4774-ac5a-86898ae2bb1a",
   "metadata": {},
   "outputs": [
    {
     "name": "stdin",
     "output_type": "stream",
     "text": [
      "enter value for n1 12\n",
      "enter value for n2 21\n"
     ]
    },
    {
     "name": "stdout",
     "output_type": "stream",
     "text": [
      "252 12.0 21.0\n"
     ]
    }
   ],
   "source": [
    "n1=int(input(\"enter value for n1\"))\n",
    "n2=int(input(\"enter value for n2\"))\n",
    "n1=n1*n2\n",
    "n2=n1/n2\n",
    "n3=n1/n2\n",
    "print(n1,n2,n3)"
   ]
  },
  {
   "cell_type": "code",
   "execution_count": null,
   "id": "ced20624-b29d-41fd-b771-4bfd830c58ce",
   "metadata": {},
   "outputs": [],
   "source": [
    "#even or odd\n",
    "n1=int(input(\"enter value for n1\"))\n",
    "n2=int(input(\"enter value for n2\"))\n",
    "sum=n1+n2\n",
    "if sum%2==0:\n",
    "    print(\"even\")\n",
    "else:\n",
    "    print(\"odd\")"
   ]
  },
  {
   "cell_type": "code",
   "execution_count": null,
   "id": "75d42e3c-84b3-4868-b4da-665ddc411bc1",
   "metadata": {},
   "outputs": [],
   "source": [
    "#biggest of two numbers\n",
    "n1=int(input(\"enter value for n1\"))\n",
    "n2=int(input(\"enter value for n2\"))\n",
    "if n1>n2:\n",
    "    print(n1,\"is biggest\")\n",
    "elif n2>n1:\n",
    "    print(n2,\"is biggest\")\n",
    "else:\n",
    "    print(\"equal\")"
   ]
  },
  {
   "cell_type": "code",
   "execution_count": null,
   "id": "531f4426-d37f-4f27-be8b-80d774f76668",
   "metadata": {},
   "outputs": [],
   "source": [
    "#numbers \n",
    "n=int(input(\"value of n\"))\n",
    "for n in range(1,11,2):\n",
    "    print(n)"
   ]
  },
  {
   "cell_type": "code",
   "execution_count": null,
   "id": "648ec822-8772-4090-8791-24c5fcd6ed3b",
   "metadata": {},
   "outputs": [],
   "source": [
    "#numbers in loop\n",
    "n=int(input(\"value of n\"))\n",
    "for n in range(1,11,1):\n",
    "    print(n)\n"
   ]
  },
  {
   "cell_type": "code",
   "execution_count": null,
   "id": "bc840925-2955-4706-bae7-dc8d017b09b7",
   "metadata": {},
   "outputs": [],
   "source": [
    "#loop of numbers\n",
    "n=int(input(\"enter value for n\"))\n",
    "for n in range(0,11,2):\n",
    "    print(n)\n",
    "    "
   ]
  },
  {
   "cell_type": "code",
   "execution_count": null,
   "id": "9096e3b7-cab5-4613-abd2-d18ae8541fb0",
   "metadata": {},
   "outputs": [],
   "source": [
    "#numbers in loops\n",
    "n=int(input(\"enter value for n\"))\n",
    "for n in range(2,11,1):\n",
    "    if n%2==0:\n",
    "       print(n)"
   ]
  },
  {
   "cell_type": "code",
   "execution_count": null,
   "id": "2477ec1e-496d-4760-b40c-517ccc4ff724",
   "metadata": {},
   "outputs": [],
   "source": [
    "#numbers in loop\n",
    "for n in range(0,11,1):\n",
    "    print(n)"
   ]
  },
  {
   "cell_type": "code",
   "execution_count": null,
   "id": "b2e698f4-12c4-4777-82ac-178f697ed85f",
   "metadata": {},
   "outputs": [],
   "source": [
    "#loop of even numbers\n",
    "for n in range(1,11,1):\n",
    "    if n%2==1:\n",
    "       print(n)"
   ]
  },
  {
   "cell_type": "code",
   "execution_count": null,
   "id": "d058f326-9313-4b93-91b6-e20486384324",
   "metadata": {},
   "outputs": [],
   "source": [
    "for n in range(11,0,-1):\n",
    "    print(n)"
   ]
  },
  {
   "cell_type": "code",
   "execution_count": 17,
   "id": "405e2526-ab88-4e2e-84d7-5ba276c447ae",
   "metadata": {},
   "outputs": [
    {
     "name": "stdin",
     "output_type": "stream",
     "text": [
      "enter value for n 3\n"
     ]
    },
    {
     "name": "stdout",
     "output_type": "stream",
     "text": [
      "5\n",
      "7\n",
      "9\n",
      "11\n",
      "13\n"
     ]
    }
   ],
   "source": []
  },
  {
   "cell_type": "code",
   "execution_count": null,
   "id": "847c3754-0ff5-4890-b39e-405d86e07be3",
   "metadata": {},
   "outputs": [],
   "source": [
    "#prime number or not\n",
    "fc=0\n",
    "n=int(input(\"value for n1\"))\n",
    "for f in range(1,n+1):\n",
    "    if n%f==0:\n",
    "       fc=fc+1\n",
    "if fc==2:\n",
    "   print(n,\"is prime\")\n",
    "else:\n",
    "   print(n,\"is not prime\")"
   ]
  },
  {
   "cell_type": "code",
   "execution_count": null,
   "id": "a90d698c-b36e-4cac-aac9-b53a0cba1e76",
   "metadata": {},
   "outputs": [],
   "source": [
    "#prime or not\n",
    "fc=0\n",
    "n1=int(input(\"value for n1\"))\n",
    "for f in range(2,n1+1):\n",
    "    if n1%f==0:\n",
    "       fc=fc+1\n",
    "       f=f+1\n",
    "if fc==1:\n",
    "   print(n1,\"is prime\")\n",
    "else:\n",
    "   print(n1,\"is not prime\")"
   ]
  },
  {
   "cell_type": "code",
   "execution_count": 19,
   "id": "59932eda-c2ca-425c-b589-a36073872690",
   "metadata": {},
   "outputs": [
    {
     "name": "stdin",
     "output_type": "stream",
     "text": [
      "value for n1 4\n"
     ]
    },
    {
     "name": "stdout",
     "output_type": "stream",
     "text": [
      "4 is not prime\n"
     ]
    }
   ],
   "source": [
    "#prin=me or not\n",
    "fc=0\n",
    "n=int(input(\"value for n1\"))\n",
    "for f in range(2,n+1):\n",
    "    if n%f==0:\n",
    "       fc=fc+1\n",
    "if fc==0:\n",
    "   print(n,\"is prime\")\n",
    "else:\n",
    "   print(n,\"is not prime\")"
   ]
  },
  {
   "cell_type": "code",
   "execution_count": null,
   "id": "2138f2d1-13a4-4d49-b105-388db911dff9",
   "metadata": {},
   "outputs": [],
   "source": [
    "#prime or not\n",
    "fs=0\n",
    "n=int(input(\"value for n1\"))\n",
    "for f in range(1,n//2+1,1):\n",
    "    if n%f==0:\n",
    "       fs=fs+f    \n",
    "       if fs==f:\n",
    "          print(n,\"is perfect\")\n",
    "    else:\n",
    "          print(n,\"is not perfect\")"
   ]
  },
  {
   "cell_type": "code",
   "execution_count": 21,
   "id": "01e6d579-edd2-4d6a-8baa-f87458492a05",
   "metadata": {},
   "outputs": [
    {
     "name": "stdin",
     "output_type": "stream",
     "text": [
      "value of n 3\n"
     ]
    },
    {
     "name": "stdout",
     "output_type": "stream",
     "text": [
      "1\n"
     ]
    }
   ],
   "source": [
    "#\n",
    "dc=0\n",
    "n=int(input(\"value of n\"))\n",
    "while n>0:\n",
    "      dc=dc+1\n",
    "      n=n//10\n",
    "      print(dc)"
   ]
  },
  {
   "cell_type": "code",
   "execution_count": 23,
   "id": "d9290750-52b2-4bd5-8e04-9f30f0d9b8e8",
   "metadata": {},
   "outputs": [
    {
     "name": "stdin",
     "output_type": "stream",
     "text": [
      "value of n 23\n"
     ]
    },
    {
     "name": "stdout",
     "output_type": "stream",
     "text": [
      "3\n",
      "2\n"
     ]
    }
   ],
   "source": [
    "#\n",
    "rem=0\n",
    "n=int(input(\"value of n\"))\n",
    "while n>0:\n",
    "      rem=n%10\n",
    "      n=n//10\n",
    "      print(rem)"
   ]
  },
  {
   "cell_type": "code",
   "execution_count": null,
   "id": "a5b052a9-3db0-4f94-a366-431ab1e59208",
   "metadata": {},
   "outputs": [],
   "source": [
    "rem=0\n",
    "rn=0\n",
    "n=int(input(\"enter a value for n\"))\n",
    "while n>0:\n",
    "      rem=n%10\n",
    "      rn=rn*10+rem\n",
    "      n=n//10\n",
    "      print(rn)"
   ]
  },
  {
   "cell_type": "code",
   "execution_count": null,
   "id": "488e2f80-3bb2-4ad7-8654-a00f4c3c3070",
   "metadata": {},
   "outputs": [],
   "source": [
    "es=0\n",
    "os=0\n",
    "n=int(input(\"value of n\"))\n",
    "while n>0:\n",
    "      rem=n%10\n",
    "      n=n//10\n",
    "if rem%2==0:\n",
    "   print(\"es=es+rem\")\n",
    "else:\n",
    "   print(\"os=os+rem\")\n",
    "if es>os:\n",
    "   print(es,\"is bigger\")\n",
    "else :\n",
    "   print(os,\"is bigger\")"
   ]
  },
  {
   "cell_type": "code",
   "execution_count": null,
   "id": "bbad6340-2cf5-449f-894c-99735fd8fdb7",
   "metadata": {},
   "outputs": [],
   "source": [
    "eps=0\n",
    "ops=0\n",
    "dc=0\n",
    "n=int(input(\"value of n\"))\n",
    "while n>0:\n",
    "      rem=n%10\n",
    "      rn=n*10+rem\n",
    "      n=n//10\n",
    "if dc%2==0:\n",
    "   print(\"eps=eps+rem\")\n",
    "else:\n",
    "   print(\"ops=ops+rem\")\n",
    "if eps>ops:\n",
    "   print(eps,\"is bigger\")\n",
    "else:\n",
    "   print(ops,\"is bigger\")"
   ]
  },
  {
   "cell_type": "code",
   "execution_count": null,
   "id": "f9bffc82-10c6-4ede-bfe9-693ef79de371",
   "metadata": {},
   "outputs": [],
   "source": [
    "edc=0\n",
    "odc=0\n",
    "dc=0\n",
    "n=int(input(\"value for n\"))\n",
    "while n>0:\n",
    "      dc=dc+1\n",
    "      rem=n%10\n",
    "      n=n//10\n",
    "if rem%2==0:\n",
    "   print(\"edc=edc+1\")\n",
    "else:\n",
    "   print(\"odc=odc+1\")\n",
    "if edc>odc:\n",
    "   print(edc,\"is biggest\")\n",
    "else:\n",
    "   print(odc,\"is biggest\")"
   ]
  },
  {
   "cell_type": "code",
   "execution_count": null,
   "id": "e59e4cee-0da8-4ef0-8899-f9e280e89245",
   "metadata": {},
   "outputs": [],
   "source": [
    "sum=0\n",
    "n=int(input(\"value of n\"))\n",
    "while n>0:\n",
    "      rem=n%10\n",
    "      sum=sum+rem\n",
    "      n=n//10\n",
    "if sum>9:\n",
    "   n=sum\n",
    "   sum=0\n",
    "   print(sum)"
   ]
  },
  {
   "cell_type": "code",
   "execution_count": null,
   "id": "94d2fabb-b383-4cdf-8394-f717a94f52da",
   "metadata": {},
   "outputs": [],
   "source": [
    "f=1\n",
    "n=int(input(\"value of n\"))\n",
    "while n>1:\n",
    "      f=f*n\n",
    "      n=n-1\n",
    "      print(f)"
   ]
  },
  {
   "cell_type": "code",
   "execution_count": null,
   "id": "a9bb165e-cdb2-4558-86c9-9077eb3aa0b4",
   "metadata": {},
   "outputs": [],
   "source": [
    "n=int(input(\"value of n\"))\n",
    "while n>9:\n",
    "      n=n//10+n%10\n",
    "      print(n)"
   ]
  },
  {
   "cell_type": "code",
   "execution_count": null,
   "id": "b5921e83-91c9-4a52-9f1a-946aa8f82b4f",
   "metadata": {},
   "outputs": [],
   "source": [
    "n=int(input(\"value of n\"))\n",
    "sum=0\n",
    "dc=0\n",
    "rem=0\n",
    "temp=n\n",
    "while temp>0:\n",
    "      dc=dc+1\n",
    "      temp=temp//10\n",
    "temp=n\n",
    "while temp>0:\n",
    "   rem=temp%10\n",
    "   sum=sum+rem**dc\n",
    "   temp=temp//10\n",
    "print(sum)\n",
    "if sum==n:\n",
    "   print(n,\"is armstrong\")\n",
    "else:\n",
    "   print(n,\"is not armstrong\")"
   ]
  },
  {
   "cell_type": "code",
   "execution_count": null,
   "id": "29c780ab-8cf5-4f16-94b9-a083bb598d6d",
   "metadata": {},
   "outputs": [],
   "source": [
    "n=int(input(\"value of n\"))\n",
    "flds=0\n",
    "mds=0\n",
    "flds=flds+n%10\n",
    "n=n//10\n",
    "if n>9:\n",
    "   mds=mds+n%10\n",
    "else:\n",
    "    flds=flds+n\n",
    "if flds>mds:\n",
    "    print(flds,\"is bigger\")\n",
    "else:\n",
    "    print(mds,\"is bigger\")"
   ]
  },
  {
   "cell_type": "code",
   "execution_count": null,
   "id": "4941672b-7e24-4730-bdd9-9c3c7c0e5a2d",
   "metadata": {},
   "outputs": [],
   "source": [
    "fc=0\n",
    "n1=int(input(\"value for n1\"))\n",
    "n2=int(input(\"value for n2\"))\n",
    "for n in range(n1,n2+1):   \n",
    "   fc=0\n",
    "   for f in range(n1,n2+1):\n",
    "      if n%f==0:\n",
    "         fc=fc+1\n",
    "   if fc==2:       \n",
    "         print(n,\"is prime\")\n",
    "   else:\n",
    "         print(n,\"is not prime\")\n",
    "   "
   ]
  },
  {
   "cell_type": "code",
   "execution_count": null,
   "id": "f68fb9db-2430-4fe6-a6f0-5bba39a05ca9",
   "metadata": {},
   "outputs": [],
   "source": [
    "n1=int(input(\"value for n1\"))\n",
    "n2=int(input(\"value for n2\"))\n",
    "if n1>n2:\n",
    "   print(n1,\"is bigger\")\n",
    "else:\n",
    "   print(n2,\"is bigger\")\n"
   ]
  },
  {
   "cell_type": "code",
   "execution_count": null,
   "id": "e8669359-c383-4d51-a49b-1c2a1cde2fff",
   "metadata": {},
   "outputs": [],
   "source": [
    "n = int(input(\"Enter the value of n: \"))\n",
    "for i in range(1, 11):\n",
    "    print(n, \"*\", i, \"=\", n * i)\n"
   ]
  },
  {
   "cell_type": "code",
   "execution_count": null,
   "id": "1a2b0ee6-c847-4209-82ff-ecfeb29c7421",
   "metadata": {},
   "outputs": [],
   "source": [
    "n=int(input(\"value for n\"))\n",
    "temp=n\n",
    "dc=0\n",
    "while temp>0:\n",
    "      dc=dc+1\n",
    "      temp=temp//10\n",
    "print(n%10*10**(dc-1)+n%10**(dc-1)-n%10+n//10**(dc-1))"
   ]
  },
  {
   "cell_type": "code",
   "execution_count": null,
   "id": "109a63f8-d551-429b-9dd0-1692bf43d12b",
   "metadata": {},
   "outputs": [],
   "source": [
    "r=int(input(\"how many rows\"))\n",
    "for i in range(r,0,-1):\n",
    "    for j in range(1,i+1):\n",
    "        print(j,end='')\n",
    "    print()\n",
    "    "
   ]
  },
  {
   "cell_type": "code",
   "execution_count": null,
   "id": "be7f46ab-c868-458b-afb6-2bded1c00750",
   "metadata": {},
   "outputs": [],
   "source": [
    "r=int(input(\"how many rows\"))\n",
    "for i in range(1,r+1):\n",
    "    for j in range(1,i+1):\n",
    "        print(1,end='')\n",
    "    print()\n",
    "    "
   ]
  },
  {
   "cell_type": "code",
   "execution_count": null,
   "id": "c9d3c15d-e3e3-4336-bb9f-f58077c1a58e",
   "metadata": {},
   "outputs": [],
   "source": [
    "r=int(input(\"how many rows\"))\n",
    "for i in range(1,r+1):\n",
    "    for j in range(1,i+1):\n",
    "        print(j,end='')\n",
    "    print()\n",
    "    "
   ]
  },
  {
   "cell_type": "code",
   "execution_count": null,
   "id": "63d22f61-c04f-4bcc-b5df-edcca25ad9e9",
   "metadata": {},
   "outputs": [],
   "source": [
    "k=1\n",
    "r=int(input(\"how many rows\"))\n",
    "for i in range(1,r+1):\n",
    "    for j in range(1,i+1):\n",
    "        print(k,end='')\n",
    "        k=k+1\n",
    "    print()\n",
    "    "
   ]
  },
  {
   "cell_type": "code",
   "execution_count": null,
   "id": "412c188f-63d5-43e0-bca4-88fdef944aac",
   "metadata": {},
   "outputs": [],
   "source": [
    "k=10\n",
    "r=int(input(\"how many rows\"))\n",
    "for i in range(r,0,-1):\n",
    "    for j in range(1,i+1):\n",
    "        print(k,end='')\n",
    "        k=k-1\n",
    "    print()\n",
    "    "
   ]
  },
  {
   "cell_type": "code",
   "execution_count": null,
   "id": "761d84cb-90f6-44b1-b158-a2a233c5635b",
   "metadata": {},
   "outputs": [],
   "source": [
    "r=int(input(\"how many rows\"))\n",
    "for i in range(r,0,-1):\n",
    "    for j in range(1,i+1):\n",
    "        print(1,end='')\n",
    "    print()\n",
    "    "
   ]
  }
 ],
 "metadata": {
  "kernelspec": {
   "display_name": "Python 3 (ipykernel)",
   "language": "python",
   "name": "python3"
  },
  "language_info": {
   "codemirror_mode": {
    "name": "ipython",
    "version": 3
   },
   "file_extension": ".py",
   "mimetype": "text/x-python",
   "name": "python",
   "nbconvert_exporter": "python",
   "pygments_lexer": "ipython3",
   "version": "3.12.7"
  }
 },
 "nbformat": 4,
 "nbformat_minor": 5
}
